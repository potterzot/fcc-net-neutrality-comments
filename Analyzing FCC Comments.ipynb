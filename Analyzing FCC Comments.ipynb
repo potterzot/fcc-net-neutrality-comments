{
 "metadata": {
  "name": "",
  "signature": "sha256:9635ef877259e178ea83fa8e4d1ccc60fcc69e574009f53b7bdb7aa217af5800"
 },
 "nbformat": 3,
 "nbformat_minor": 0,
 "worksheets": [
  {
   "cells": [
    {
     "cell_type": "markdown",
     "metadata": {},
     "source": [
      "Comment data was downloaded and processed ([github](https://github.com/potterzot/fcc_netneutrality_comments)) from the [FCC](http://www.fcc.gov/files/ecfs/14-28/ecfs-files.htm). We'll do a little exploratory data analysis using that data (over 5GB) and then output some data into csv files for use in creating some [graphics](http://www.potterzot.com/reason/netneutrality).\n",
      "\n",
      "First, let's load the modules we're going to use and set some global variables:\n",
      "\n",
      "\n"
     ]
    },
    {
     "cell_type": "code",
     "collapsed": false,
     "input": [
      "#Modules\n",
      "import pandas as pd # data frames\n",
      "import sqlite3 as sql #sqlite for reading the database\n",
      "import numpy as np # mathematics\n",
      "import stats as stats # statistical routines\n",
      "#import pandasql as pdsql # library to interface pandas and sqlite3 - doesn't work though...\n",
      "\n",
      "#Globals\n",
      "FILENAME = '/run/media/potterzot/My Passport/potterzot/data/fcc/nn_comments.db'\n"
     ],
     "language": "python",
     "metadata": {},
     "outputs": [],
     "prompt_number": 7
    },
    {
     "cell_type": "markdown",
     "metadata": {},
     "source": [
      "The data is stored in an sqlite3 database that we will use as the base to analyze. Initially I tried this using HDF5, but my laptop couldn't handle the memory requirements of so much text, and chunking with pandas wasn't very effective (or perhaps I should say, I wasn't very effective with it)."
     ]
    },
    {
     "cell_type": "code",
     "collapsed": false,
     "input": [
      "# Initialize the connection\n",
      "db = sql.connect(FILENAME)\n",
      "cursor = db.cursor()\n",
      "\n",
      "# How many comments were there?\n",
      "cursor.execute(\"SELECT COUNT(*) FROM comments\")\n",
      "cursor.fetchone()\n"
     ],
     "language": "python",
     "metadata": {},
     "outputs": [
      {
       "metadata": {},
       "output_type": "pyout",
       "prompt_number": 10,
       "text": [
        "(446719,)"
       ]
      }
     ],
     "prompt_number": 10
    },
    {
     "cell_type": "markdown",
     "metadata": {},
     "source": [
      "So we've got almost 450,000 comments. I read somewhere that nearly 150,000 were the same though, so let's see how many unique comments we have."
     ]
    },
    {
     "cell_type": "code",
     "collapsed": false,
     "input": [
      "cursor.execute(\"SELECT COUNT(*) FROM (SELECT DISTINCT text FROM comments)\")\n",
      "cursor.fetchone()"
     ],
     "language": "python",
     "metadata": {},
     "outputs": [
      {
       "metadata": {},
       "output_type": "pyout",
       "prompt_number": 13,
       "text": [
        "(445999,)"
       ]
      }
     ],
     "prompt_number": 13
    },
    {
     "cell_type": "markdown",
     "metadata": {},
     "source": [
      "Hmm, well that's not in accordance with what the FCC said. We should look at that closer. And let's also get the important data moved into a dataframe if possible without breaking the bank"
     ]
    },
    {
     "cell_type": "code",
     "collapsed": false,
     "input": [
      "# See what fields are available and save them as a data frame\n",
      "cursor.execute(\"PRAGMA table_info(comments)\")\n",
      "metadata = pd.DataFrame(cursor.fetchall(), columns=('id', 'field', 'type', '0', 'None', '02'))\n",
      "metadata"
     ],
     "language": "python",
     "metadata": {},
     "outputs": [
      {
       "html": [
        "<div style=\"max-height:1000px;max-width:1500px;overflow:auto;\">\n",
        "<table border=\"1\" class=\"dataframe\">\n",
        "  <thead>\n",
        "    <tr style=\"text-align: right;\">\n",
        "      <th></th>\n",
        "      <th>id</th>\n",
        "      <th>field</th>\n",
        "      <th>type</th>\n",
        "      <th>0</th>\n",
        "      <th>None</th>\n",
        "      <th>02</th>\n",
        "    </tr>\n",
        "  </thead>\n",
        "  <tbody>\n",
        "    <tr>\n",
        "      <th>0 </th>\n",
        "      <td>  0</td>\n",
        "      <td>                  id</td>\n",
        "      <td> TEXT</td>\n",
        "      <td> 0</td>\n",
        "      <td> None</td>\n",
        "      <td> 0</td>\n",
        "    </tr>\n",
        "    <tr>\n",
        "      <th>1 </th>\n",
        "      <td>  1</td>\n",
        "      <td>           applicant</td>\n",
        "      <td> TEXT</td>\n",
        "      <td> 0</td>\n",
        "      <td> None</td>\n",
        "      <td> 0</td>\n",
        "    </tr>\n",
        "    <tr>\n",
        "      <th>2 </th>\n",
        "      <td>  2</td>\n",
        "      <td>      applicant_sort</td>\n",
        "      <td> TEXT</td>\n",
        "      <td> 0</td>\n",
        "      <td> None</td>\n",
        "      <td> 0</td>\n",
        "    </tr>\n",
        "    <tr>\n",
        "      <th>3 </th>\n",
        "      <td>  3</td>\n",
        "      <td>              author</td>\n",
        "      <td> TEXT</td>\n",
        "      <td> 0</td>\n",
        "      <td> None</td>\n",
        "      <td> 0</td>\n",
        "    </tr>\n",
        "    <tr>\n",
        "      <th>4 </th>\n",
        "      <td>  4</td>\n",
        "      <td>         author_sort</td>\n",
        "      <td> TEXT</td>\n",
        "      <td> 0</td>\n",
        "      <td> None</td>\n",
        "      <td> 0</td>\n",
        "    </tr>\n",
        "    <tr>\n",
        "      <th>5 </th>\n",
        "      <td>  5</td>\n",
        "      <td>               brief</td>\n",
        "      <td>  INT</td>\n",
        "      <td> 0</td>\n",
        "      <td> None</td>\n",
        "      <td> 0</td>\n",
        "    </tr>\n",
        "    <tr>\n",
        "      <th>6 </th>\n",
        "      <td>  6</td>\n",
        "      <td>             stateCd</td>\n",
        "      <td> TEXT</td>\n",
        "      <td> 0</td>\n",
        "      <td> None</td>\n",
        "      <td> 0</td>\n",
        "    </tr>\n",
        "    <tr>\n",
        "      <th>7 </th>\n",
        "      <td>  7</td>\n",
        "      <td>                city</td>\n",
        "      <td> TEXT</td>\n",
        "      <td> 0</td>\n",
        "      <td> None</td>\n",
        "      <td> 0</td>\n",
        "    </tr>\n",
        "    <tr>\n",
        "      <th>8 </th>\n",
        "      <td>  8</td>\n",
        "      <td>                 zip</td>\n",
        "      <td> TEXT</td>\n",
        "      <td> 0</td>\n",
        "      <td> None</td>\n",
        "      <td> 0</td>\n",
        "    </tr>\n",
        "    <tr>\n",
        "      <th>9 </th>\n",
        "      <td>  9</td>\n",
        "      <td>            daNumber</td>\n",
        "      <td> TEXT</td>\n",
        "      <td> 0</td>\n",
        "      <td> None</td>\n",
        "      <td> 0</td>\n",
        "    </tr>\n",
        "    <tr>\n",
        "      <th>10</th>\n",
        "      <td> 10</td>\n",
        "      <td>   dateCommentPeriod</td>\n",
        "      <td> TEXT</td>\n",
        "      <td> 0</td>\n",
        "      <td> None</td>\n",
        "      <td> 0</td>\n",
        "    </tr>\n",
        "    <tr>\n",
        "      <th>11</th>\n",
        "      <td> 11</td>\n",
        "      <td>    dateReplyComment</td>\n",
        "      <td> TEXT</td>\n",
        "      <td> 0</td>\n",
        "      <td> None</td>\n",
        "      <td> 0</td>\n",
        "    </tr>\n",
        "    <tr>\n",
        "      <th>12</th>\n",
        "      <td> 12</td>\n",
        "      <td>            dateRcpt</td>\n",
        "      <td> TEXT</td>\n",
        "      <td> 0</td>\n",
        "      <td> None</td>\n",
        "      <td> 0</td>\n",
        "    </tr>\n",
        "    <tr>\n",
        "      <th>13</th>\n",
        "      <td> 13</td>\n",
        "      <td>        disseminated</td>\n",
        "      <td> TEXT</td>\n",
        "      <td> 0</td>\n",
        "      <td> None</td>\n",
        "      <td> 0</td>\n",
        "    </tr>\n",
        "    <tr>\n",
        "      <th>14</th>\n",
        "      <td> 14</td>\n",
        "      <td>             exParte</td>\n",
        "      <td>  INT</td>\n",
        "      <td> 0</td>\n",
        "      <td> None</td>\n",
        "      <td> 0</td>\n",
        "    </tr>\n",
        "    <tr>\n",
        "      <th>15</th>\n",
        "      <td> 15</td>\n",
        "      <td>          fileNumber</td>\n",
        "      <td> TEXT</td>\n",
        "      <td> 0</td>\n",
        "      <td> None</td>\n",
        "      <td> 0</td>\n",
        "    </tr>\n",
        "    <tr>\n",
        "      <th>16</th>\n",
        "      <td> 16</td>\n",
        "      <td>             lawfirm</td>\n",
        "      <td> TEXT</td>\n",
        "      <td> 0</td>\n",
        "      <td> None</td>\n",
        "      <td> 0</td>\n",
        "    </tr>\n",
        "    <tr>\n",
        "      <th>17</th>\n",
        "      <td> 17</td>\n",
        "      <td>        lawfirm_sort</td>\n",
        "      <td> TEXT</td>\n",
        "      <td> 0</td>\n",
        "      <td> None</td>\n",
        "      <td> 0</td>\n",
        "    </tr>\n",
        "    <tr>\n",
        "      <th>18</th>\n",
        "      <td> 18</td>\n",
        "      <td>            modified</td>\n",
        "      <td> TEXT</td>\n",
        "      <td> 0</td>\n",
        "      <td> None</td>\n",
        "      <td> 0</td>\n",
        "    </tr>\n",
        "    <tr>\n",
        "      <th>19</th>\n",
        "      <td> 19</td>\n",
        "      <td>               pages</td>\n",
        "      <td>  INT</td>\n",
        "      <td> 0</td>\n",
        "      <td> None</td>\n",
        "      <td> 0</td>\n",
        "    </tr>\n",
        "    <tr>\n",
        "      <th>20</th>\n",
        "      <td> 20</td>\n",
        "      <td>          proceeding</td>\n",
        "      <td> TEXT</td>\n",
        "      <td> 0</td>\n",
        "      <td> None</td>\n",
        "      <td> 0</td>\n",
        "    </tr>\n",
        "    <tr>\n",
        "      <th>21</th>\n",
        "      <td> 21</td>\n",
        "      <td>        reportNumber</td>\n",
        "      <td> TEXT</td>\n",
        "      <td> 0</td>\n",
        "      <td> None</td>\n",
        "      <td> 0</td>\n",
        "    </tr>\n",
        "    <tr>\n",
        "      <th>22</th>\n",
        "      <td> 22</td>\n",
        "      <td>     regFlexAnalysis</td>\n",
        "      <td>  INT</td>\n",
        "      <td> 0</td>\n",
        "      <td> None</td>\n",
        "      <td> 0</td>\n",
        "    </tr>\n",
        "    <tr>\n",
        "      <th>23</th>\n",
        "      <td> 23</td>\n",
        "      <td> smallBusinessImpact</td>\n",
        "      <td>  INT</td>\n",
        "      <td> 0</td>\n",
        "      <td> None</td>\n",
        "      <td> 0</td>\n",
        "    </tr>\n",
        "    <tr>\n",
        "      <th>24</th>\n",
        "      <td> 24</td>\n",
        "      <td>      submissionType</td>\n",
        "      <td> TEXT</td>\n",
        "      <td> 0</td>\n",
        "      <td> None</td>\n",
        "      <td> 0</td>\n",
        "    </tr>\n",
        "    <tr>\n",
        "      <th>25</th>\n",
        "      <td> 25</td>\n",
        "      <td>                text</td>\n",
        "      <td> TEXT</td>\n",
        "      <td> 0</td>\n",
        "      <td> None</td>\n",
        "      <td> 0</td>\n",
        "    </tr>\n",
        "    <tr>\n",
        "      <th>26</th>\n",
        "      <td> 26</td>\n",
        "      <td>       viewingStatus</td>\n",
        "      <td> TEXT</td>\n",
        "      <td> 0</td>\n",
        "      <td> None</td>\n",
        "      <td> 0</td>\n",
        "    </tr>\n",
        "    <tr>\n",
        "      <th>27</th>\n",
        "      <td> 27</td>\n",
        "      <td>               score</td>\n",
        "      <td> REAL</td>\n",
        "      <td> 0</td>\n",
        "      <td> None</td>\n",
        "      <td> 0</td>\n",
        "    </tr>\n",
        "  </tbody>\n",
        "</table>\n",
        "</div>"
       ],
       "metadata": {},
       "output_type": "pyout",
       "prompt_number": 23,
       "text": [
        "    id                field  type  0  None  02\n",
        "0    0                   id  TEXT  0  None   0\n",
        "1    1            applicant  TEXT  0  None   0\n",
        "2    2       applicant_sort  TEXT  0  None   0\n",
        "3    3               author  TEXT  0  None   0\n",
        "4    4          author_sort  TEXT  0  None   0\n",
        "5    5                brief   INT  0  None   0\n",
        "6    6              stateCd  TEXT  0  None   0\n",
        "7    7                 city  TEXT  0  None   0\n",
        "8    8                  zip  TEXT  0  None   0\n",
        "9    9             daNumber  TEXT  0  None   0\n",
        "10  10    dateCommentPeriod  TEXT  0  None   0\n",
        "11  11     dateReplyComment  TEXT  0  None   0\n",
        "12  12             dateRcpt  TEXT  0  None   0\n",
        "13  13         disseminated  TEXT  0  None   0\n",
        "14  14              exParte   INT  0  None   0\n",
        "15  15           fileNumber  TEXT  0  None   0\n",
        "16  16              lawfirm  TEXT  0  None   0\n",
        "17  17         lawfirm_sort  TEXT  0  None   0\n",
        "18  18             modified  TEXT  0  None   0\n",
        "19  19                pages   INT  0  None   0\n",
        "20  20           proceeding  TEXT  0  None   0\n",
        "21  21         reportNumber  TEXT  0  None   0\n",
        "22  22      regFlexAnalysis   INT  0  None   0\n",
        "23  23  smallBusinessImpact   INT  0  None   0\n",
        "24  24       submissionType  TEXT  0  None   0\n",
        "25  25                 text  TEXT  0  None   0\n",
        "26  26        viewingStatus  TEXT  0  None   0\n",
        "27  27                score  REAL  0  None   0"
       ]
      }
     ],
     "prompt_number": 23
    },
    {
     "cell_type": "markdown",
     "metadata": {},
     "source": [
      "Okay, so let's create one data frame that is the geographical and other important data, but not the text itself, since that is the major memory consumer."
     ]
    },
    {
     "cell_type": "code",
     "collapsed": false,
     "input": [
      "# Create the query\n",
      "q = \"SELECT id, applicant, author, city, stateCD AS state, zip, pages, score, dateRcpt AS received FROM comments\"\n",
      "cursor.execute(q)\n",
      "nontextdata = pd.DataFrame(cursor.fetchall(), columns = ('id', 'applicant', 'author', 'city', 'state', 'zip', 'pages', 'score', 'received'))"
     ],
     "language": "python",
     "metadata": {},
     "outputs": [],
     "prompt_number": 26
    },
    {
     "cell_type": "code",
     "collapsed": false,
     "input": [
      "# See the number of unique names, cities, states, zips\n",
      "for v in ['applicant', 'state', 'city', 'zip']:\n",
      "    print(v+\": \"+str(len(pd.Series(nontextdata[v]).unique())))"
     ],
     "language": "python",
     "metadata": {},
     "outputs": [
      {
       "output_type": "stream",
       "stream": "stdout",
       "text": [
        "applicant: 355404\n",
        "state: 28873"
       ]
      },
      {
       "output_type": "stream",
       "stream": "stdout",
       "text": [
        "\n",
        "city: 60"
       ]
      },
      {
       "output_type": "stream",
       "stream": "stdout",
       "text": [
        "\n",
        "zip: 27364"
       ]
      },
      {
       "output_type": "stream",
       "stream": "stdout",
       "text": [
        "\n"
       ]
      }
     ],
     "prompt_number": 33
    },
    {
     "cell_type": "markdown",
     "metadata": {},
     "source": [
      "28,873 cities and 60 states. A quick look show's we've got a few extra 'states' thrown in the comments.\n"
     ]
    },
    {
     "cell_type": "code",
     "collapsed": false,
     "input": [
      "nontextdata['city'].unique()"
     ],
     "language": "python",
     "metadata": {},
     "outputs": [
      {
       "metadata": {},
       "output_type": "pyout",
       "prompt_number": 37,
       "text": [
        "array(['TN', 'CA', 'SC', 'NY', 'VA', 'MI', 'OR', 'FL', 'PA', 'WI', 'MA',\n",
        "       'NJ', 'WA', 'IN', 'OK', 'RI', 'NC', 'TX', 'CO', 'CT', 'AZ', 'DE',\n",
        "       'GA', 'OH', 'MD', 'NM', 'ME', 'NH', 'MO', 'SD', 'KY', 'IL', 'IA',\n",
        "       'AR', 'LA', 'VT', 'AL', 'KS', 'MN', 'NE', 'WV', 'NV', 'HI', 'AK',\n",
        "       'ID', 'MS', 'UT', 'MT', 'DC', 'WY', 'ND', 'PR', 'VI', '', 'MP',\n",
        "       'GU', 'FM', 'PW', 'MH', 'AS'], dtype=object)"
       ]
      }
     ],
     "prompt_number": 37
    },
    {
     "cell_type": "markdown",
     "metadata": {},
     "source": [
      "Histograms can give a qood visual estimate of the distribution among states, though Edward Tufte might argue in favor of a simple table instead."
     ]
    },
    {
     "cell_type": "code",
     "collapsed": false,
     "input": [
      "db.close()"
     ],
     "language": "python",
     "metadata": {},
     "outputs": [],
     "prompt_number": 50
    }
   ],
   "metadata": {}
  }
 ]
}