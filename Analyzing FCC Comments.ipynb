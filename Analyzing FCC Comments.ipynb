{
 "metadata": {
  "name": "",
  "signature": "sha256:59c761214f5c6b8231e92d24381b2c6d09cf999622d39d708841d302cba2b89d"
 },
 "nbformat": 3,
 "nbformat_minor": 0,
 "worksheets": [
  {
   "cells": [
    {
     "cell_type": "markdown",
     "metadata": {},
     "source": [
      "Comment data was downloaded and processed ([github](https://github.com/potterzot/fcc_netneutrality_comments)) from the [FCC](http://www.fcc.gov/files/ecfs/14-28/ecfs-files.htm). We'll do a little exploratory data analysis using that data (over 5GB) and then output some data into csv files for use in creating some [graphics](http://www.potterzot.com/reason/netneutrality).\n",
      "\n",
      "First, let's load the modules we're going to use and set some global variables:\n",
      "\n",
      "\n"
     ]
    },
    {
     "cell_type": "code",
     "collapsed": false,
     "input": [
      "#Modules\n",
      "import pandas as pd # data frames\n",
      "import sqlite3 as sql #sqlite for reading the database\n",
      "import numpy as np # mathematics\n",
      "\n",
      "#Globals\n",
      "FILENAME = '/run/media/potterzot/My Passport/potterzot/data/fcc/nn_comments.db'\n"
     ],
     "language": "python",
     "metadata": {},
     "outputs": [],
     "prompt_number": 1
    },
    {
     "cell_type": "markdown",
     "metadata": {},
     "source": [
      "The data is stored in an HDF5 database that we'll access through pandas' pytables interface"
     ]
    },
    {
     "cell_type": "code",
     "collapsed": false,
     "input": [
      "f = pt.HDFStore(FILENAME)\n",
      "#f = t.open_file(FILENAME, 'r')\n"
     ],
     "language": "python",
     "metadata": {},
     "outputs": [],
     "prompt_number": 2
    },
    {
     "cell_type": "markdown",
     "metadata": {},
     "source": [
      "Pytables tables are stored in a tree like structure. Below we can see the root structure, and that we have a group named \"nn_comments\" and a table under that group named \"comments\", with the available fields. Calling the table provides data fields"
     ]
    },
    {
     "cell_type": "code",
     "collapsed": false,
     "input": [
      "tbl = f.root.nn_comments.comments\n",
      "tbl"
     ],
     "language": "python",
     "metadata": {},
     "outputs": [
      {
       "metadata": {},
       "output_type": "pyout",
       "prompt_number": 3,
       "text": [
        "/nn_comments/comments (Table(446719,)) 'Comment Data'\n",
        "  description := {\n",
        "  \"applicant\": StringCol(itemsize=100, shape=(), dflt=b'', pos=0),\n",
        "  \"applicant_sort\": StringCol(itemsize=100, shape=(), dflt=b'', pos=1),\n",
        "  \"author\": StringCol(itemsize=100, shape=(), dflt=b'', pos=2),\n",
        "  \"author_sort\": StringCol(itemsize=100, shape=(), dflt=b'', pos=3),\n",
        "  \"brief\": BoolCol(shape=(), dflt=False, pos=4),\n",
        "  \"city\": StringCol(itemsize=50, shape=(), dflt=b'', pos=5),\n",
        "  \"daNumber\": StringCol(itemsize=20, shape=(), dflt=b'', pos=6),\n",
        "  \"dateCommentPeriod\": Time64Col(shape=(), dflt=0.0, pos=7),\n",
        "  \"dateRcpt\": Time64Col(shape=(), dflt=0.0, pos=8),\n",
        "  \"disseminated\": Time64Col(shape=(), dflt=0.0, pos=9),\n",
        "  \"exParte\": BoolCol(shape=(), dflt=False, pos=10),\n",
        "  \"fileNumber\": StringCol(itemsize=100, shape=(), dflt=b'', pos=11),\n",
        "  \"id\": Int32Col(shape=(), dflt=0, pos=12),\n",
        "  \"lawfirm\": StringCol(itemsize=200, shape=(), dflt=b'', pos=13),\n",
        "  \"lawfirm_sort\": StringCol(itemsize=200, shape=(), dflt=b'', pos=14),\n",
        "  \"modified\": Time64Col(shape=(), dflt=0.0, pos=15),\n",
        "  \"pages\": Int32Col(shape=(), dflt=0, pos=16),\n",
        "  \"proceeding\": StringCol(itemsize=1000, shape=(), dflt=b'', pos=17),\n",
        "  \"regFlexAnalysis\": StringCol(itemsize=1, shape=(), dflt=b'', pos=18),\n",
        "  \"reportNumber\": StringCol(itemsize=50, shape=(), dflt=b'', pos=19),\n",
        "  \"score\": Float32Col(shape=(), dflt=0.0, pos=20),\n",
        "  \"smallBusinessImpact\": BoolCol(shape=(), dflt=False, pos=21),\n",
        "  \"stateCd\": BoolCol(shape=(), dflt=False, pos=22),\n",
        "  \"submissionType\": StringCol(itemsize=20, shape=(), dflt=b'', pos=23),\n",
        "  \"text\": StringCol(itemsize=10000, shape=(), dflt=b'', pos=24),\n",
        "  \"viewingStatus\": StringCol(itemsize=15, shape=(), dflt=b'', pos=25),\n",
        "  \"zip\": Int32Col(shape=(), dflt=0, pos=26)}\n",
        "  byteorder := 'little'\n",
        "  chunkshape := (21,)"
       ]
      }
     ],
     "prompt_number": 3
    },
    {
     "cell_type": "markdown",
     "metadata": {},
     "source": [
      "The file is 5 GB, so it's difficult to just look at all of the data. My snappy laptop gives memory errors whenever I try to look at the comment text. It might be better to create a smaller data file that contains just the variables we want to look at, or even to look at it in chunks. But the best thing might be to just look at a random subsample."
     ]
    },
    {
     "cell_type": "code",
     "collapsed": false,
     "input": [
      "import random\n",
      "sample = random.sample(tbl.cols.id[:], 10)"
     ],
     "language": "python",
     "metadata": {},
     "outputs": [
      {
       "ename": "TypeError",
       "evalue": "Population must be a sequence or set.  For dicts, use list(d).",
       "output_type": "pyerr",
       "traceback": [
        "\u001b[1;31m---------------------------------------------------------------------------\u001b[0m\n\u001b[1;31mTypeError\u001b[0m                                 Traceback (most recent call last)",
        "\u001b[1;32m<ipython-input-4-8efa690d9f04>\u001b[0m in \u001b[0;36m<module>\u001b[1;34m()\u001b[0m\n\u001b[0;32m      1\u001b[0m \u001b[1;32mimport\u001b[0m \u001b[0mrandom\u001b[0m\u001b[1;33m\u001b[0m\u001b[0m\n\u001b[1;32m----> 2\u001b[1;33m \u001b[0msample\u001b[0m \u001b[1;33m=\u001b[0m \u001b[0mrandom\u001b[0m\u001b[1;33m.\u001b[0m\u001b[0msample\u001b[0m\u001b[1;33m(\u001b[0m\u001b[0mtbl\u001b[0m\u001b[1;33m.\u001b[0m\u001b[0mcols\u001b[0m\u001b[1;33m.\u001b[0m\u001b[0mid\u001b[0m\u001b[1;33m[\u001b[0m\u001b[1;33m:\u001b[0m\u001b[1;33m]\u001b[0m\u001b[1;33m,\u001b[0m \u001b[1;36m10\u001b[0m\u001b[1;33m)\u001b[0m\u001b[1;33m\u001b[0m\u001b[0m\n\u001b[0m",
        "\u001b[1;32m/usr/lib/python3.4/random.py\u001b[0m in \u001b[0;36msample\u001b[1;34m(self, population, k)\u001b[0m\n\u001b[0;32m    309\u001b[0m             \u001b[0mpopulation\u001b[0m \u001b[1;33m=\u001b[0m \u001b[0mtuple\u001b[0m\u001b[1;33m(\u001b[0m\u001b[0mpopulation\u001b[0m\u001b[1;33m)\u001b[0m\u001b[1;33m\u001b[0m\u001b[0m\n\u001b[0;32m    310\u001b[0m         \u001b[1;32mif\u001b[0m \u001b[1;32mnot\u001b[0m \u001b[0misinstance\u001b[0m\u001b[1;33m(\u001b[0m\u001b[0mpopulation\u001b[0m\u001b[1;33m,\u001b[0m \u001b[0m_Sequence\u001b[0m\u001b[1;33m)\u001b[0m\u001b[1;33m:\u001b[0m\u001b[1;33m\u001b[0m\u001b[0m\n\u001b[1;32m--> 311\u001b[1;33m             \u001b[1;32mraise\u001b[0m \u001b[0mTypeError\u001b[0m\u001b[1;33m(\u001b[0m\u001b[1;34m\"Population must be a sequence or set.  For dicts, use list(d).\"\u001b[0m\u001b[1;33m)\u001b[0m\u001b[1;33m\u001b[0m\u001b[0m\n\u001b[0m\u001b[0;32m    312\u001b[0m         \u001b[0mrandbelow\u001b[0m \u001b[1;33m=\u001b[0m \u001b[0mself\u001b[0m\u001b[1;33m.\u001b[0m\u001b[0m_randbelow\u001b[0m\u001b[1;33m\u001b[0m\u001b[0m\n\u001b[0;32m    313\u001b[0m         \u001b[0mn\u001b[0m \u001b[1;33m=\u001b[0m \u001b[0mlen\u001b[0m\u001b[1;33m(\u001b[0m\u001b[0mpopulation\u001b[0m\u001b[1;33m)\u001b[0m\u001b[1;33m\u001b[0m\u001b[0m\n",
        "\u001b[1;31mTypeError\u001b[0m: Population must be a sequence or set.  For dicts, use list(d)."
       ]
      }
     ],
     "prompt_number": 4
    },
    {
     "cell_type": "code",
     "collapsed": false,
     "input": [
      "text_length = 0\n",
      "for row in tbl:\n",
      "    tlen = len(row['text'])\n",
      "    if tlen > text_length: \n",
      "        text_length = tlen \n",
      "text_length"
     ],
     "language": "python",
     "metadata": {},
     "outputs": []
    },
    {
     "cell_type": "code",
     "collapsed": false,
     "input": [
      "df = pd.DataFrame(tbl.cols.applicant[:], cols=tbl.cols)"
     ],
     "language": "python",
     "metadata": {},
     "outputs": [
      {
       "ename": "TypeError",
       "evalue": "__init__() got an unexpected keyword argument 'cols'",
       "output_type": "pyerr",
       "traceback": [
        "\u001b[1;31m---------------------------------------------------------------------------\u001b[0m\n\u001b[1;31mTypeError\u001b[0m                                 Traceback (most recent call last)",
        "\u001b[1;32m<ipython-input-29-08313d1d84c1>\u001b[0m in \u001b[0;36m<module>\u001b[1;34m()\u001b[0m\n\u001b[1;32m----> 1\u001b[1;33m \u001b[0mdf\u001b[0m \u001b[1;33m=\u001b[0m \u001b[0mpd\u001b[0m\u001b[1;33m.\u001b[0m\u001b[0mDataFrame\u001b[0m\u001b[1;33m(\u001b[0m\u001b[0mtbl\u001b[0m\u001b[1;33m.\u001b[0m\u001b[0mcols\u001b[0m\u001b[1;33m.\u001b[0m\u001b[0mapplicant\u001b[0m\u001b[1;33m[\u001b[0m\u001b[1;33m:\u001b[0m\u001b[1;33m]\u001b[0m\u001b[1;33m,\u001b[0m \u001b[0mcols\u001b[0m\u001b[1;33m=\u001b[0m\u001b[0mtbl\u001b[0m\u001b[1;33m.\u001b[0m\u001b[0mcols\u001b[0m\u001b[1;33m)\u001b[0m\u001b[1;33m\u001b[0m\u001b[0m\n\u001b[0m",
        "\u001b[1;31mTypeError\u001b[0m: __init__() got an unexpected keyword argument 'cols'"
       ]
      }
     ],
     "prompt_number": 29
    },
    {
     "cell_type": "code",
     "collapsed": false,
     "input": [
      "f.close()\n"
     ],
     "language": "python",
     "metadata": {},
     "outputs": [],
     "prompt_number": 5
    }
   ],
   "metadata": {}
  }
 ]
}