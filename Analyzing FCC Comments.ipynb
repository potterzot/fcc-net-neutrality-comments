{
 "metadata": {
  "name": "",
  "signature": "sha256:544f4a0941e8cd7e8be8f30df8ab4752ca47f534f4cdb0c53e370a928bd98f20"
 },
 "nbformat": 3,
 "nbformat_minor": 0,
 "worksheets": [
  {
   "cells": [
    {
     "cell_type": "markdown",
     "metadata": {},
     "source": [
      "Comment data was downloaded and processed ([github](https://github.com/potterzot/fcc_netneutrality_comments)) from the [FCC](http://www.fcc.gov/files/ecfs/14-28/ecfs-files.htm). We'll do a little exploratory data analysis using that data (over 5GB) and then output some data into csv files for use in creating some [graphics](http://www.potterzot.com/reason/netneutrality).\n",
      "\n",
      "First, let's load the modules we're going to use and set some global variables:\n",
      "\n",
      "\n"
     ]
    },
    {
     "cell_type": "code",
     "collapsed": false,
     "input": [
      "#Modules\n",
      "import pandas as pd # data frames\n",
      "import numpy as np # mathematics\n",
      "import gzip # data is stored as a gzipped file\n",
      "from tables import * #pytables for large data processing\n",
      "\n",
      "#Globals\n",
      "FILENAME = './nn_comments.h5.tar.gz'\n"
     ],
     "language": "python",
     "metadata": {},
     "outputs": [],
     "prompt_number": 4
    },
    {
     "cell_type": "markdown",
     "metadata": {},
     "source": [
      "We'll open the data, but since it's so large, we're going to use pytables to work with it."
     ]
    },
    {
     "cell_type": "code",
     "collapsed": false,
     "input": [
      "f = gzip.open(FILENAME, 'rb')"
     ],
     "language": "python",
     "metadata": {},
     "outputs": []
    }
   ],
   "metadata": {}
  }
 ]
}