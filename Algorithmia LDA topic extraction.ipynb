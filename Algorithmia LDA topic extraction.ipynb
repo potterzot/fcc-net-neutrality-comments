{
 "metadata": {
  "name": "",
  "signature": "sha256:18a0f419605f40ce0fe584468e4a1130dc88e89c2a2a400c58630c89b3aa756d"
 },
 "nbformat": 3,
 "nbformat_minor": 0,
 "worksheets": [
  {
   "cells": [
    {
     "cell_type": "markdown",
     "metadata": {},
     "source": [
      "Just for fun, extract topics from the comments downloaded from the FCC on Net Neutrality, and use the [Algorithmia](http://algorithmia.com/) API to do an LDA analysis for topic extraction."
     ]
    },
    {
     "cell_type": "code",
     "collapsed": false,
     "input": [
      "from urllib.request import Request, urlopen\n",
      "import json\n",
      "import sqlite3 as sql\n",
      "\n",
      "#vars\n",
      "comment_db = '/run/media/potterzot/zfire1/data/fcc/nn_comments.db'\n",
      "api_base = 'http://api.algorithmia.com/api/'\n",
      "api_key = '6ca036edbe8047bc812b732234eeae1d' #Your key here"
     ],
     "language": "python",
     "metadata": {},
     "outputs": [],
     "prompt_number": 4
    },
    {
     "cell_type": "markdown",
     "metadata": {},
     "source": [
      "We want to pull the comments, and we're not really doing any selection processing of comments based on other features, so just pull the comments themselves."
     ]
    },
    {
     "cell_type": "code",
     "collapsed": false,
     "input": [
      "#Fetch the comments from the database\n",
      "sqldb = None\n",
      "sqldb = sql.connect(comment_db)\n",
      "    \n",
      "with sqldb:\n",
      "    cursor = sqldb.cursor()\n",
      "    comments = cursor.execute('SELECT comment_text from comments')\n",
      "    sqldb.commit()\n",
      "\n",
      "comments.fetchone()"
     ],
     "language": "python",
     "metadata": {},
     "outputs": [],
     "prompt_number": 14
    },
    {
     "cell_type": "markdown",
     "metadata": {},
     "source": [
      "Pretty standard API call, submit the comments as a json object."
     ]
    },
    {
     "cell_type": "code",
     "collapsed": false,
     "input": [
      "#Setup the API Call\n",
      "request = Request(base+'kenny/LDA')\n",
      "request.add_header('Content-Type', 'application/json')\n",
      "request.add_header('Authorization', api_key)\n",
      "response = urlopen(request, json.dumps(comments))\n",
      "response.read()"
     ],
     "language": "python",
     "metadata": {},
     "outputs": []
    },
    {
     "cell_type": "code",
     "collapsed": false,
     "input": [
      "comments"
     ],
     "language": "python",
     "metadata": {},
     "outputs": [
      {
       "metadata": {},
       "output_type": "pyout",
       "prompt_number": 8,
       "text": [
        "<sqlite3.Cursor at 0x7f768f65c9d0>"
       ]
      }
     ],
     "prompt_number": 8
    },
    {
     "cell_type": "code",
     "collapsed": false,
     "input": [],
     "language": "python",
     "metadata": {},
     "outputs": []
    }
   ],
   "metadata": {}
  }
 ]
}