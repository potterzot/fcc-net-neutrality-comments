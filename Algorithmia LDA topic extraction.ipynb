{
 "metadata": {
  "name": "",
  "signature": "sha256:60ce17a8720170c67092770cfbe71547aef27e7397812a77cc62b45de794d4b3"
 },
 "nbformat": 3,
 "nbformat_minor": 0,
 "worksheets": [
  {
   "cells": [
    {
     "cell_type": "markdown",
     "metadata": {},
     "source": [
      "Just for fun, extract topics from the comments downloaded from the FCC on Net Neutrality, and use the [Algorithmia](http://algorithmia.com/) API to do an LDA analysis for topic extraction."
     ]
    },
    {
     "cell_type": "code",
     "collapsed": false,
     "input": [
      "import urllib2, json\n",
      "import sqlite3 as sql\n",
      "\n",
      "\n",
      "\n",
      "#vars\n",
      "comment_db = '/run/media/potterzot/zfire1/data/fcc/comments_nn.db'\n",
      "query = 'SELECT comment_text from comments;'\n",
      "api_base = 'http://api.algorithmia.com/api/'\n",
      "api_key = '6ca036edbe8047bc812b732234eeae1d' #Your key here"
     ],
     "language": "python",
     "metadata": {},
     "outputs": []
    },
    {
     "cell_type": "code",
     "collapsed": false,
     "input": [
      "#Fetch the comments from the database\n",
      "sqldb = None\n",
      "sqldb = sql.connect(comment_db)\n",
      "    \n",
      "with sqldb:\n",
      "    cursor = sqldb.cursor()\n",
      "    comments = cursor.execute(query)\n"
     ],
     "language": "python",
     "metadata": {},
     "outputs": []
    },
    {
     "cell_type": "code",
     "collapsed": false,
     "input": [
      "#Setup the API Call\n",
      "request = urllib2.Request(base+'kenny/LDA')\n",
      "request.add_header('Content-Type', 'application/json')\n",
      "request.add_header('Authorization', api_key)\n",
      "response = urllib2.urlopen(request, json.dumps(input))\n",
      "response.read()"
     ],
     "language": "python",
     "metadata": {},
     "outputs": []
    },
    {
     "cell_type": "code",
     "collapsed": false,
     "input": [
      "\n"
     ],
     "language": "python",
     "metadata": {},
     "outputs": []
    },
    {
     "cell_type": "code",
     "collapsed": false,
     "input": [],
     "language": "python",
     "metadata": {},
     "outputs": []
    }
   ],
   "metadata": {}
  }
 ]
}