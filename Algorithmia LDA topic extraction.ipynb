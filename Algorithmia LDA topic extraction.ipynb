{
 "metadata": {
  "name": "",
  "signature": "sha256:e3f478909ef464fa8575cdd996c860e9fb7a7195c3d7a2f443abc87d18d18b71"
 },
 "nbformat": 3,
 "nbformat_minor": 0,
 "worksheets": [
  {
   "cells": [
    {
     "cell_type": "markdown",
     "metadata": {},
     "source": [
      "Just for fun, extract topics from the comments downloaded from the FCC on Net Neutrality, and use the [Algorithmia](http://algorithmia.com/) API to do an LDA analysis for topic extraction."
     ]
    },
    {
     "cell_type": "code",
     "collapsed": false,
     "input": [
      "from urllib.request import Request, urlopen\n",
      "import json #for submission\n",
      "import sqlite3 as sql #sql database connection\n",
      "import pandas as pd #dataframes\n",
      "import re #regular expressions\n",
      "from numpy import random #for selection of sample\n",
      "\n",
      "#vars\n",
      "comment_db = '/run/media/potterzot/zfire1/data/fcc/nn_comments.db'\n",
      "api_base = 'http://api.algorithmia.com/api/'\n",
      "api_key = 'Your key here'\n",
      "num_topics = 3 #number of topics we want from the LDA\n",
      "sample_size = 1000 #number of comments to analyze. Population is 446719"
     ],
     "language": "python",
     "metadata": {},
     "outputs": [],
     "prompt_number": 24
    },
    {
     "cell_type": "markdown",
     "metadata": {},
     "source": [
      "We want to pull the comments, and we're not really doing any selection processing of comments based on other features, so just pull the comments themselves."
     ]
    },
    {
     "cell_type": "code",
     "collapsed": false,
     "input": [
      "#Fetch the comments from the database\n",
      "sqldb = None\n",
      "sqldb = sql.connect(comment_db)\n",
      "    \n",
      "with sqldb:\n",
      "    cursor = sqldb.cursor()\n",
      "    comments = cursor.execute('SELECT comment_text from comments')\n",
      "    sqldb.commit()\n",
      "    \n",
      "data = pd.DataFrame({'comment': comments.fetchall()})\n",
      "data.reindex() #just index on row number\n",
      "data.head()"
     ],
     "language": "python",
     "metadata": {},
     "outputs": [
      {
       "html": [
        "<div style=\"max-height:1000px;max-width:1500px;overflow:auto;\">\n",
        "<table border=\"1\" class=\"dataframe\">\n",
        "  <thead>\n",
        "    <tr style=\"text-align: right;\">\n",
        "      <th></th>\n",
        "      <th>comment</th>\n",
        "    </tr>\n",
        "  </thead>\n",
        "  <tbody>\n",
        "    <tr>\n",
        "      <th>0</th>\n",
        "      <td> (7521074355.txt Reclassify The Internet As A C...</td>\n",
        "    </tr>\n",
        "    <tr>\n",
        "      <th>1</th>\n",
        "      <td> (7521074318.txt Reclassify The Internet As A C...</td>\n",
        "    </tr>\n",
        "    <tr>\n",
        "      <th>2</th>\n",
        "      <td> (7521074516.txt Reclassify The Internet As A C...</td>\n",
        "    </tr>\n",
        "    <tr>\n",
        "      <th>3</th>\n",
        "      <td> (7521074376.txt Reclassify The Internet As A C...</td>\n",
        "    </tr>\n",
        "    <tr>\n",
        "      <th>4</th>\n",
        "      <td> (7521074413.txt Reclassify The Internet As A C...</td>\n",
        "    </tr>\n",
        "  </tbody>\n",
        "</table>\n",
        "</div>"
       ],
       "metadata": {},
       "output_type": "pyout",
       "prompt_number": 2,
       "text": [
        "                                             comment\n",
        "0  (7521074355.txt Reclassify The Internet As A C...\n",
        "1  (7521074318.txt Reclassify The Internet As A C...\n",
        "2  (7521074516.txt Reclassify The Internet As A C...\n",
        "3  (7521074376.txt Reclassify The Internet As A C...\n",
        "4  (7521074413.txt Reclassify The Internet As A C..."
       ]
      }
     ],
     "prompt_number": 2
    },
    {
     "cell_type": "markdown",
     "metadata": {},
     "source": [
      "You can see that the text itself could use a little cleaning up. Each entry is currently a tuple, so we want to convert to a string and then get rid of the page numbers, and remove the text file name.\n",
      "\n",
      "Since the text file name comes at the beginning of each comment, we can strip that out by splitting:"
     ]
    },
    {
     "cell_type": "code",
     "collapsed": false,
     "input": [
      "#Test our parse on one comment first\n",
      "test_comment = data.loc[0, 'comment'][0] #have to select the first entry bc it's a tuple\n",
      "test_comment += ' Page 1111'\n",
      "re.sub(r'\\d+.txt', '', test_comment)"
     ],
     "language": "python",
     "metadata": {},
     "outputs": [
      {
       "metadata": {},
       "output_type": "pyout",
       "prompt_number": 6,
       "text": [
        "' Reclassify The Internet As A Common Carrier. Page 1 Page 1111'"
       ]
      }
     ],
     "prompt_number": 6
    },
    {
     "cell_type": "markdown",
     "metadata": {},
     "source": [
      "Now let's remove all instances of 'Page #':"
     ]
    },
    {
     "cell_type": "code",
     "collapsed": false,
     "input": [
      "re.sub(r'Page \\d+', '', test_comment).strip()"
     ],
     "language": "python",
     "metadata": {},
     "outputs": [
      {
       "metadata": {},
       "output_type": "pyout",
       "prompt_number": 7,
       "text": [
        "'7521074355.txt Reclassify The Internet As A Common Carrier.'"
       ]
      }
     ],
     "prompt_number": 7
    },
    {
     "cell_type": "markdown",
     "metadata": {},
     "source": [
      "Now let's wrap those two things up into a function so that we can run all of our comments through them before sumission to Algorithmia."
     ]
    },
    {
     "cell_type": "code",
     "collapsed": false,
     "input": [
      "def clean(d):\n",
      "    '''takes a tuple containing a string and returns a string with no file name or page numbers.'''\n",
      "    c0 = d[0] \n",
      "    c1 = re.sub(r'\\d+.txt','',c0)\n",
      "    c2 = re.sub(r'Page \\d+', '', c1)\n",
      "    # one liner: re.sub(r'Page \\d+', '', tu[0].split('.txt ')[1]).strip()\n",
      "    return c2.strip()\n",
      "clean(data.loc[1,'comment']) #test"
     ],
     "language": "python",
     "metadata": {},
     "outputs": [
      {
       "metadata": {},
       "output_type": "pyout",
       "prompt_number": 8,
       "text": [
        "'Reclassify The Internet As A Common Carrier.'"
       ]
      }
     ],
     "prompt_number": 8
    },
    {
     "cell_type": "markdown",
     "metadata": {},
     "source": [
      "Now let's run the entire set of comments through the cleaning function."
     ]
    },
    {
     "cell_type": "code",
     "collapsed": false,
     "input": [
      "data['comment'] = data['comment'].apply(lambda x: clean(x))\n",
      "data.loc[1,:] #test"
     ],
     "language": "python",
     "metadata": {},
     "outputs": [
      {
       "metadata": {},
       "output_type": "pyout",
       "prompt_number": 9,
       "text": [
        "comment    Reclassify The Internet As A Common Carrier.\n",
        "Name: 1, dtype: object"
       ]
      }
     ],
     "prompt_number": 9
    },
    {
     "cell_type": "markdown",
     "metadata": {},
     "source": [
      "Now that we have clean data, let's submit it to Algorithmia. We do have one more thing to check though, and that's to see how it will convert to json. To check we just select the first few."
     ]
    },
    {
     "cell_type": "code",
     "collapsed": false,
     "input": [
      "json.dumps([list(data.loc[1:3,'comment']), num_topics])\n"
     ],
     "language": "python",
     "metadata": {},
     "outputs": [
      {
       "metadata": {},
       "output_type": "pyout",
       "prompt_number": 11,
       "text": [
        "'[[\"Reclassify The Internet As A Common Carrier.\", \"Reclassify The Internet As A Common Carrier. Please do the right thing by all Americans!\", \"Reclassify The Internet As A Common Carrier.\"], 3]'"
       ]
      }
     ],
     "prompt_number": 11
    },
    {
     "cell_type": "markdown",
     "metadata": {},
     "source": [
      "Now we want to do our real submission. Since we have so many comments, let's for now just randomly select 1000 and see how long that takes."
     ]
    },
    {
     "cell_type": "code",
     "collapsed": false,
     "input": [
      "#Actual data submission\n",
      "pop_size = len(data.index) #446719\n",
      "sample = random.randint(0, pop_size, sample_size) # get a random sample\n",
      "submission = json.dumps([list(data.loc[sample,'comment']), num_topics])"
     ],
     "language": "python",
     "metadata": {},
     "outputs": [],
     "prompt_number": 28
    },
    {
     "cell_type": "code",
     "collapsed": false,
     "input": [
      "#Setup the API Call\n",
      "request = Request(api_base+'kenny/LDA')\n",
      "request.add_header('Content-Type', 'application/json')\n",
      "request.add_header('Authorization', api_key)\n",
      "response = urlopen(request, submission.encode())\n",
      "result = json.loads(response.read().decode())"
     ],
     "language": "python",
     "metadata": {},
     "outputs": [],
     "prompt_number": 37
    },
    {
     "cell_type": "code",
     "collapsed": false,
     "input": [
      "result"
     ],
     "language": "python",
     "metadata": {},
     "outputs": [
      {
       "metadata": {},
       "output_type": "pyout",
       "prompt_number": 41,
       "text": [
        "{'result': [{'data': 248,\n",
        "   'net': 239,\n",
        "   'isps': 483,\n",
        "   'services': 407,\n",
        "   'important': 390,\n",
        "   'equally': 238,\n",
        "   'internet': 1044,\n",
        "   'service': 347},\n",
        "  {'open': 155,\n",
        "   'net': 204,\n",
        "   'providers': 182,\n",
        "   'neutrality': 185,\n",
        "   'people': 162,\n",
        "   'access': 167,\n",
        "   'internet': 679,\n",
        "   'service': 211},\n",
        "  {'neutrality': 1356,\n",
        "   'net': 1345,\n",
        "   'title': 798,\n",
        "   'business': 539,\n",
        "   'isps': 1585,\n",
        "   'slow': 542,\n",
        "   'choice': 794,\n",
        "   'internet': 1858}],\n",
        " 'time': 25.83614806}"
       ]
      }
     ],
     "prompt_number": 41
    },
    {
     "cell_type": "markdown",
     "metadata": {},
     "source": [
      "Next up, put those into a topic cluster graph..."
     ]
    }
   ],
   "metadata": {}
  }
 ]
}