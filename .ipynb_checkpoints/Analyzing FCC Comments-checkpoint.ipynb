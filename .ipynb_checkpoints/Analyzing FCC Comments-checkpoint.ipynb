{
 "metadata": {
  "name": "",
  "signature": "sha256:58973f50dde44c2c05125d6c709530ac7f902b81d5f5c95b94e0797e12aed5dc"
 },
 "nbformat": 3,
 "nbformat_minor": 0,
 "worksheets": [
  {
   "cells": [
    {
     "cell_type": "markdown",
     "metadata": {},
     "source": [
      "Comment data was downloaded and processed ([github](https://github.com/potterzot/fcc_netneutrality_comments)) from the [FCC](http://www.fcc.gov/files/ecfs/14-28/ecfs-files.htm). We'll do a little exploratory data analysis using that data (over 5GB) and then output some data into csv files for use in creating some [graphics](http://www.potterzot.com/reason/netneutrality).\n",
      "\n",
      "First, let's load the modules we're going to use and set some global variables:\n",
      "\n",
      "\n"
     ]
    },
    {
     "cell_type": "code",
     "collapsed": false,
     "input": [
      "#Modules\n",
      "import pandas as pd # data frames\n",
      "import numpy as np # mathematics\n",
      "from pandas.io import pytables as pt #pytables module for opening the dataset\n",
      "\n",
      "#Globals\n",
      "FILENAME = '/run/media/potterzot/My Passport/potterzot/data/fcc/nn_comments.h5'\n"
     ],
     "language": "python",
     "metadata": {},
     "outputs": [],
     "prompt_number": 16
    },
    {
     "cell_type": "markdown",
     "metadata": {},
     "source": [
      "The data is stored in an HDF5 database that we'll access through pytables."
     ]
    },
    {
     "cell_type": "code",
     "collapsed": false,
     "input": [
      "f = pt.HDFStore(FILENAME)"
     ],
     "language": "python",
     "metadata": {},
     "outputs": [],
     "prompt_number": 8
    },
    {
     "cell_type": "markdown",
     "metadata": {},
     "source": [
      "Pytables tables are stored in a tree like structure. Below we can see the root structure, and that we have a group named \"nn_comments\" and a table under that group named \"comments\", with the available fields."
     ]
    },
    {
     "cell_type": "code",
     "collapsed": false,
     "input": [
      "f.root"
     ],
     "language": "python",
     "metadata": {},
     "outputs": [
      {
       "metadata": {},
       "output_type": "pyout",
       "prompt_number": 11,
       "text": [
        "/ (RootGroup) 'FCC Net Neutrality Comments'\n",
        "  children := ['nn_comments' (Group)]"
       ]
      }
     ],
     "prompt_number": 11
    },
    {
     "cell_type": "code",
     "collapsed": false,
     "input": [
      "tbl = f.root.nn_comments.comments\n",
      "tbl"
     ],
     "language": "python",
     "metadata": {},
     "outputs": [
      {
       "metadata": {},
       "output_type": "pyout",
       "prompt_number": 12,
       "text": [
        "/nn_comments/comments (Table(46719,)) 'Comment Data'\n",
        "  description := {\n",
        "  \"applicant\": StringCol(itemsize=1000, shape=(), dflt=b'', pos=0),\n",
        "  \"applicant_sort\": StringCol(itemsize=1000, shape=(), dflt=b'', pos=1),\n",
        "  \"author\": StringCol(itemsize=1000, shape=(), dflt=b'', pos=2),\n",
        "  \"author_sort\": StringCol(itemsize=1000, shape=(), dflt=b'', pos=3),\n",
        "  \"brief\": BoolCol(shape=(), dflt=False, pos=4),\n",
        "  \"city\": StringCol(itemsize=1000, shape=(), dflt=b'', pos=5),\n",
        "  \"daNumber\": Int64Col(shape=(), dflt=0, pos=6),\n",
        "  \"dateCommentPeriod\": Time64Col(shape=(), dflt=0.0, pos=7),\n",
        "  \"dateRcpt\": Time64Col(shape=(), dflt=0.0, pos=8),\n",
        "  \"disseminated\": StringCol(itemsize=1000, shape=(), dflt=b'', pos=9),\n",
        "  \"exParte\": BoolCol(shape=(), dflt=False, pos=10),\n",
        "  \"filenumber\": Int32Col(shape=(), dflt=0, pos=11),\n",
        "  \"id\": Int32Col(shape=(), dflt=0, pos=12),\n",
        "  \"lawfirm\": StringCol(itemsize=1000, shape=(), dflt=b'', pos=13),\n",
        "  \"lawfirm_sort\": Int32Col(shape=(), dflt=0, pos=14),\n",
        "  \"modified\": StringCol(itemsize=1000, shape=(), dflt=b'', pos=15),\n",
        "  \"pages\": Int32Col(shape=(), dflt=0, pos=16),\n",
        "  \"proceeding\": StringCol(itemsize=1000, shape=(), dflt=b'', pos=17),\n",
        "  \"regFlexAnalysis\": StringCol(itemsize=1, shape=(), dflt=b'', pos=18),\n",
        "  \"score\": Float32Col(shape=(), dflt=0.0, pos=19),\n",
        "  \"smallBusinessImpact\": BoolCol(shape=(), dflt=False, pos=20),\n",
        "  \"stateCd\": StringCol(itemsize=100, shape=(), dflt=b'', pos=21),\n",
        "  \"submissionType\": StringCol(itemsize=100, shape=(), dflt=b'', pos=22),\n",
        "  \"text\": StringCol(itemsize=1000, shape=(), dflt=b'', pos=23),\n",
        "  \"viewingStatus\": StringCol(itemsize=20, shape=(), dflt=b'', pos=24),\n",
        "  \"zip\": Int32Col(shape=(), dflt=0, pos=25)}\n",
        "  byteorder := 'little'\n",
        "  chunkshape := (12,)"
       ]
      }
     ],
     "prompt_number": 12
    },
    {
     "cell_type": "code",
     "collapsed": false,
     "input": [
      "len(tbl.cols.applicant[:])\n",
      "#f.close()\n"
     ],
     "language": "python",
     "metadata": {},
     "outputs": [
      {
       "metadata": {},
       "output_type": "pyout",
       "prompt_number": 15,
       "text": [
        "46719"
       ]
      }
     ],
     "prompt_number": 15
    }
   ],
   "metadata": {}
  }
 ]
}